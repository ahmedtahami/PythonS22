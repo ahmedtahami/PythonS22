{
  "nbformat": 4,
  "nbformat_minor": 0,
  "metadata": {
    "colab": {
      "name": "PBD Loop Problems.ipynb",
      "provenance": [],
      "authorship_tag": "ABX9TyP8J+DVnA+91IjbfzDv5RMu",
      "include_colab_link": true
    },
    "kernelspec": {
      "name": "python3",
      "display_name": "Python 3"
    },
    "language_info": {
      "name": "python"
    }
  },
  "cells": [
    {
      "cell_type": "markdown",
      "metadata": {
        "id": "view-in-github",
        "colab_type": "text"
      },
      "source": [
        "<a href=\"https://colab.research.google.com/github/ahmedtahami/PythonS22/blob/main/PBD_Loop_Problems.ipynb\" target=\"_parent\"><img src=\"https://colab.research.google.com/assets/colab-badge.svg\" alt=\"Open In Colab\"/></a>"
      ]
    },
    {
      "cell_type": "markdown",
      "source": [
        "# Question 1 – Characters for the ASCII Codes\n",
        "**Write a program that uses a loop to display the characters for each ASCII code 32 through 127. Display 16 characters on each line\n",
        "with one space between characters.**"
      ],
      "metadata": {
        "id": "MAjKQYOfiF6k"
      }
    },
    {
      "cell_type": "code",
      "execution_count": 13,
      "metadata": {
        "colab": {
          "base_uri": "https://localhost:8080/"
        },
        "id": "_ZqrYIeNiAqs",
        "outputId": "29dcd5ed-c3f8-4aa7-c8c3-ccda9e767be2"
      },
      "outputs": [
        {
          "output_type": "stream",
          "name": "stdout",
          "text": [
            "  ! \" # $ % & ' ( ) * + , - . / \n",
            "\n",
            "0 1 2 3 4 5 6 7 8 9 : ; < = > ? \n",
            "\n",
            "@ A B C D E F G H I J K L M N O \n",
            "\n",
            "P Q R S T U V W X Y Z [ \\ ] ^ _ \n",
            "\n",
            "` a b c d e f g h i j k l m n o \n",
            "\n",
            "p q r s t u v w x y z { | } ~ "
          ]
        }
      ],
      "source": [
        "lineCounter = 0\n",
        "for i in range(32, 127):\n",
        "  if lineCounter == 16:\n",
        "    lineCounter = 0\n",
        "    print('\\n')\n",
        "  \n",
        "  print(chr(i), end=\" \")\n",
        "  lineCounter += 1"
      ]
    },
    {
      "cell_type": "markdown",
      "source": [
        "# Question 2 – Sum of Numbers\n",
        "**Write a program that asks the user for a positive integer value. The program should use a loop to get the sum of all the integers\n",
        "from 1 up to the number entered. For example, if the user enters 50, the loop will find the sum of 1, 2, 3, 4, ... 50.\n",
        "Input Validation: Do not accept an input that is less than 1**"
      ],
      "metadata": {
        "id": "dv6Ps4tUkPtx"
      }
    },
    {
      "cell_type": "code",
      "source": [
        "num = int(input(\"Please Enter A Postive Number Greater Than 1 : \"))\n",
        "msg = \"Sum of range from 1 to {} is = {}\"\n",
        "sum = 0\n",
        "if num > 0:\n",
        "  for i in range(1, num+1):\n",
        "    sum += i\n",
        "    \n",
        "  print(msg.format(num, sum))\n",
        "else:\n",
        "  print(\"Invalid Input\")\n"
      ],
      "metadata": {
        "colab": {
          "base_uri": "https://localhost:8080/"
        },
        "id": "Wr8P1iNEkHpk",
        "outputId": "e616dc31-fb2c-4427-8e34-c0e9ce302222"
      },
      "execution_count": 19,
      "outputs": [
        {
          "output_type": "stream",
          "name": "stdout",
          "text": [
            "Please Enter A Postive Number Greater Than 1 : 5\n",
            "Sum of range from 1 to 5 is = 15\n"
          ]
        }
      ]
    },
    {
      "cell_type": "code",
      "source": [
        ""
      ],
      "metadata": {
        "id": "SCfNK1UCmGAS"
      },
      "execution_count": null,
      "outputs": []
    },
    {
      "cell_type": "code",
      "source": [
        ""
      ],
      "metadata": {
        "id": "ZLqPPwoKl96k"
      },
      "execution_count": null,
      "outputs": []
    },
    {
      "cell_type": "code",
      "source": [
        ""
      ],
      "metadata": {
        "id": "pe03vhTrlqCu"
      },
      "execution_count": null,
      "outputs": []
    },
    {
      "cell_type": "code",
      "source": [
        ""
      ],
      "metadata": {
        "id": "lgiKwrm6ldNI"
      },
      "execution_count": null,
      "outputs": []
    },
    {
      "cell_type": "code",
      "source": [
        ""
      ],
      "metadata": {
        "id": "OypUhhF_lU_7"
      },
      "execution_count": null,
      "outputs": []
    },
    {
      "cell_type": "code",
      "source": [
        ""
      ],
      "metadata": {
        "id": "qioPGHovlR6E"
      },
      "execution_count": null,
      "outputs": []
    },
    {
      "cell_type": "code",
      "source": [
        ""
      ],
      "metadata": {
        "id": "B1ix1nmaj7-7"
      },
      "execution_count": null,
      "outputs": []
    },
    {
      "cell_type": "code",
      "source": [
        ""
      ],
      "metadata": {
        "id": "sMy6xfKNjGZ8"
      },
      "execution_count": null,
      "outputs": []
    },
    {
      "cell_type": "code",
      "source": [
        ""
      ],
      "metadata": {
        "id": "a6ZRxIhjjDXv"
      },
      "execution_count": null,
      "outputs": []
    },
    {
      "cell_type": "code",
      "source": [
        ""
      ],
      "metadata": {
        "id": "P6RK5cWPjBjI"
      },
      "execution_count": null,
      "outputs": []
    },
    {
      "cell_type": "code",
      "source": [
        ""
      ],
      "metadata": {
        "id": "XEcfJkqvi0DP"
      },
      "execution_count": null,
      "outputs": []
    },
    {
      "cell_type": "code",
      "source": [
        ""
      ],
      "metadata": {
        "id": "qlTMBxBYiyAh"
      },
      "execution_count": null,
      "outputs": []
    },
    {
      "cell_type": "code",
      "source": [
        ""
      ],
      "metadata": {
        "id": "6S1RhnIDio6c"
      },
      "execution_count": null,
      "outputs": []
    },
    {
      "cell_type": "code",
      "source": [
        ""
      ],
      "metadata": {
        "id": "ufZ74Sf1if0M"
      },
      "execution_count": null,
      "outputs": []
    },
    {
      "cell_type": "code",
      "source": [
        ""
      ],
      "metadata": {
        "id": "bEYe2bEfiQG0"
      },
      "execution_count": null,
      "outputs": []
    }
  ]
}